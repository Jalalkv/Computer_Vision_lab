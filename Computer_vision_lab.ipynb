{
 "cells": [
  {
   "cell_type": "markdown",
   "id": "08e36b9c",
   "metadata": {},
   "source": [
    "__[Millions of black people affected by racial bias in health-care algorithms](https://www.nature.com/articles/d41586-019-03228-6)__"
   ]
  },
  {
   "cell_type": "markdown",
   "id": "385258a4",
   "metadata": {},
   "source": [
    "The article explores findings of research which found out that biased alghorithm in health care system resulted in systematic discrimination against black people.\n",
    "Key findings of the reseacrh:\n",
    "- black were generally assigned lower risk scores than equally sick white people\n",
    "- the data showed that the care provided to black people cost an average of US$1,800 less per year than the care given to a white person\n",
    "- only 17.7% (instead of 46.5%) of patients that the algorithm assigned to receive extra care were black\n",
    "- after collaboration of scienists model's bias was reduced by 84%"
   ]
  }
 ],
 "metadata": {
  "kernelspec": {
   "display_name": "Python 3",
   "language": "python",
   "name": "python3"
  },
  "language_info": {
   "codemirror_mode": {
    "name": "ipython",
    "version": 3
   },
   "file_extension": ".py",
   "mimetype": "text/x-python",
   "name": "python",
   "nbconvert_exporter": "python",
   "pygments_lexer": "ipython3",
   "version": "3.8.8"
  }
 },
 "nbformat": 4,
 "nbformat_minor": 5
}
